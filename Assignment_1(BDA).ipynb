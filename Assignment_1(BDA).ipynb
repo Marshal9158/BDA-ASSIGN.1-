{
  "nbformat": 4,
  "nbformat_minor": 0,
  "metadata": {
    "colab": {
      "provenance": [],
      "authorship_tag": "ABX9TyNJtPWLerPY572rXs1CP3yG",
      "include_colab_link": true
    },
    "kernelspec": {
      "name": "python3",
      "display_name": "Python 3"
    },
    "language_info": {
      "name": "python"
    }
  },
  "cells": [
    {
      "cell_type": "markdown",
      "metadata": {
        "id": "view-in-github",
        "colab_type": "text"
      },
      "source": [
        "<a href=\"https://colab.research.google.com/github/Marshal9158/BDA-ASSIGN.1-/blob/main/Assignment_1(BDA).ipynb\" target=\"_parent\"><img src=\"https://colab.research.google.com/assets/colab-badge.svg\" alt=\"Open In Colab\"/></a>"
      ]
    },
    {
      "cell_type": "code",
      "source": [
        "!pip install pyspark"
      ],
      "metadata": {
        "colab": {
          "base_uri": "https://localhost:8080/"
        },
        "collapsed": true,
        "id": "OEkJMb_gcyFG",
        "outputId": "8a77f058-6e51-4428-fc78-2df2ede908b5"
      },
      "execution_count": 10,
      "outputs": [
        {
          "output_type": "stream",
          "name": "stdout",
          "text": [
            "Requirement already satisfied: pyspark in /usr/local/lib/python3.10/dist-packages (3.5.3)\n",
            "Requirement already satisfied: py4j==0.10.9.7 in /usr/local/lib/python3.10/dist-packages (from pyspark) (0.10.9.7)\n"
          ]
        }
      ]
    },
    {
      "cell_type": "code",
      "execution_count": null,
      "metadata": {
        "colab": {
          "base_uri": "https://localhost:8080/"
        },
        "id": "Zr2mjarrZf4k",
        "outputId": "8c222bbc-f282-4c09-fc4d-ac1635560974"
      },
      "outputs": [
        {
          "output_type": "stream",
          "name": "stdout",
          "text": [
            "Country      100000\n",
            "ProductID    100000\n",
            "Quantity     100000\n",
            "dtype: int64\n"
          ]
        }
      ],
      "source": [
        "\n",
        "import pandas as pd\n",
        "\n",
        "# Load the file\n",
        "file_path = '/content/sales_data.csv.xls'\n",
        "data = pd.read_csv(file_path)  # Use pd.read_csv if it's actually a CSV file\n",
        "\n",
        "# Count the number of entries per column\n",
        "word_counts_per_column = data.count()\n",
        "\n",
        "# Display the counts\n",
        "print(word_counts_per_column)\n"
      ]
    },
    {
      "cell_type": "code",
      "source": [
        "from pyspark.sql import SparkSession\n",
        "\n",
        "# Create a SparkSession\n",
        "spark = SparkSession.builder.appName(\"WordCount\").getOrCreate()\n",
        "\n",
        "# Read the text file from the local system\n",
        "# Use 'file:///' prefix for local files and forward slashes for path separators\n",
        "file_path = \"/content/sales_data.csv.xls\"  # Replace with your file path\n",
        "text_file = spark.read.text(file_path).rdd.map(lambda r: r[0])\n",
        "\n",
        "# Split the lines into words and count them\n",
        "word_counts = text_file.flatMap(lambda line: line.split(\" \")).count()\n",
        "\n",
        "# Print the word count\n",
        "print(\"Number of words in the file:\", word_counts)\n",
        "\n",
        "# Stop the SparkSession\n",
        "spark.stop()"
      ],
      "metadata": {
        "id": "dJnpLd_uc-gp",
        "colab": {
          "base_uri": "https://localhost:8080/"
        },
        "outputId": "4fd0a398-2160-411b-980d-87db5ea4f41a"
      },
      "execution_count": 9,
      "outputs": [
        {
          "output_type": "stream",
          "name": "stdout",
          "text": [
            "Number of words in the file: 110109\n"
          ]
        }
      ]
    },
    {
      "cell_type": "code",
      "source": [],
      "metadata": {
        "id": "Lg-tcwU5lGvv"
      },
      "execution_count": null,
      "outputs": []
    }
  ]
}