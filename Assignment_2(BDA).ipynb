{
  "nbformat": 4,
  "nbformat_minor": 0,
  "metadata": {
    "colab": {
      "provenance": [],
      "authorship_tag": "ABX9TyOfuomxxgdON2fDhPx6fFTl",
      "include_colab_link": true
    },
    "kernelspec": {
      "name": "python3",
      "display_name": "Python 3"
    },
    "language_info": {
      "name": "python"
    }
  },
  "cells": [
    {
      "cell_type": "markdown",
      "metadata": {
        "id": "view-in-github",
        "colab_type": "text"
      },
      "source": [
        "<a href=\"https://colab.research.google.com/github/Marshal9158/BDA-ASSIGNMENT/blob/main/Assignment_2(BDA).ipynb\" target=\"_parent\"><img src=\"https://colab.research.google.com/assets/colab-badge.svg\" alt=\"Open In Colab\"/></a>"
      ]
    },
    {
      "cell_type": "code",
      "execution_count": 9,
      "metadata": {
        "collapsed": true,
        "id": "D32zCFxojr1T"
      },
      "outputs": [],
      "source": []
    },
    {
      "cell_type": "code",
      "source": [
        "!pip install -q pyspark\n",
        "!pip install -q opencv-python\n",
        "from pyspark.sql import SparkSession\n",
        "import cv2\n",
        "from google.colab.patches import cv2_imshow\n",
        "import numpy as np\n",
        "from pyspark.sql.functions import udf\n",
        "from pyspark.sql.types import ArrayType, IntegerType\n",
        "\n",
        "# Initialize Spark session\n",
        "spark = SparkSession.builder.appName(\"VideoAnalysis\").getOrCreate()\n",
        "\n",
        "# Path to your video file\n",
        "video_file_path = \"/content/AdobeStock_360465490_Video_HD_Preview.mov\"  # Replace with your video file path\n",
        "\n",
        "# Initialize video capture\n",
        "video_capture = cv2.VideoCapture(video_file_path)\n",
        "\n",
        "# Check if video file opened successfully\n",
        "if not video_capture.isOpened():\n",
        "    print(\"Error: Could not open video.\")\n",
        "else:\n",
        "    frame_list = []\n",
        "    # Read video frame by frame\n",
        "    while True:\n",
        "        ret, frame = video_capture.read()\n",
        "        if not ret:\n",
        "            break\n",
        "        # Append frame to the list as a flattened array for easier handling in Spark\n",
        "        frame_list.append(frame.flatten().tolist())\n",
        "\n",
        "    # Convert frame list to Spark DataFrame\n",
        "    frame_df = spark.createDataFrame(frame_list, ArrayType(IntegerType()))\n",
        "\n",
        "    # Define a UDF to process each frame\n",
        "    def process_frame(frame_array):\n",
        "        # Reshape flattened frame array back to image dimensions (assuming 720p video, adjust as needed)\n",
        "        frame = np.array(frame_array, dtype=np.uint8).reshape((720, 1280, 3))\n",
        "        gray_frame = cv2.cvtColor(frame, cv2.COLOR_BGR2GRAY)\n",
        "        edges = cv2.Canny(gray_frame, 100, 200)\n",
        "        return edges.flatten().tolist()  # Flatten to save as a Spark array\n",
        "\n",
        "    # Register UDF\n",
        "    process_frame_udf = udf(process_frame, ArrayType(IntegerType()))\n",
        "\n",
        "    # Apply UDF to process frames\n",
        "    processed_df = frame_df.withColumn(\"processed_frame\", process_frame_udf(\"value\")).select(\"processed_frame\")\n",
        "\n",
        "    # Collect processed frames for displaying\n",
        "    processed_frames = processed_df.collect()\n",
        "\n",
        "    # Display each processed frame\n",
        "    for row in processed_frames:\n",
        "        edge_frame = np.array(row.processed_frame, dtype=np.uint8).reshape((720, 1280))\n",
        "        cv2_imshow(edge_frame)\n",
        "\n",
        "# Release the video capture\n",
        "video_capture.release()\n",
        "spark.stop()\n"
      ],
      "metadata": {
        "id": "8oD_RoDKkk9m"
      },
      "execution_count": null,
      "outputs": []
    },
    {
      "cell_type": "code",
      "source": [],
      "metadata": {
        "id": "VwZ_d3nmsdXg"
      },
      "execution_count": null,
      "outputs": []
    }
  ]
}